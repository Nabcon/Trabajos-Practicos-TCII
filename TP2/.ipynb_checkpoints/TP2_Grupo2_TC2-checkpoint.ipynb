{
 "cells": [
  {
   "cell_type": "markdown",
   "id": "1d23e2d7",
   "metadata": {},
   "source": [
    "\n",
    "#### Teoría de Circuitos II\n",
    "\n",
    "# Trabajo Práctico N°2\n",
    "\n",
    "#### Grupo 2"
   ]
  },
  {
   "cell_type": "markdown",
   "id": "6648847d",
   "metadata": {},
   "source": [
    "### Ejercicio 1"
   ]
  },
  {
   "cell_type": "code",
   "execution_count": 1,
   "id": "38773ad3",
   "metadata": {},
   "outputs": [
    {
     "data": {
      "text/html": [
       "\n",
       "        <iframe\n",
       "            width=\"900\"\n",
       "            height=\"900\"\n",
       "            src=\"Ejercicio_1_TP2.pdf\"\n",
       "            frameborder=\"0\"\n",
       "            allowfullscreen\n",
       "            \n",
       "        ></iframe>\n",
       "        "
      ],
      "text/plain": [
       "<IPython.lib.display.IFrame at 0x21679064e50>"
      ]
     },
     "execution_count": 1,
     "metadata": {},
     "output_type": "execute_result"
    }
   ],
   "source": [
    "from IPython.display import IFrame\n",
    "IFrame(\"Ejercicio_1_TP2.pdf\", width=900, height=900)"
   ]
  },
  {
   "cell_type": "markdown",
   "id": "d6ab35f7",
   "metadata": {},
   "source": [
    "### Ejercicio 2"
   ]
  },
  {
   "cell_type": "code",
   "execution_count": 2,
   "id": "1e8560de",
   "metadata": {},
   "outputs": [
    {
     "data": {
      "text/html": [
       "\n",
       "        <iframe\n",
       "            width=\"900\"\n",
       "            height=\"900\"\n",
       "            src=\"Ejercicio_2_TP2.pdf\"\n",
       "            frameborder=\"0\"\n",
       "            allowfullscreen\n",
       "            \n",
       "        ></iframe>\n",
       "        "
      ],
      "text/plain": [
       "<IPython.lib.display.IFrame at 0x18010c4a280>"
      ]
     },
     "execution_count": 2,
     "metadata": {},
     "output_type": "execute_result"
    }
   ],
   "source": [
    "from IPython.display import IFrame\n",
    "IFrame(\"Ejercicio_2_TP2.pdf\", width=900, height=900)"
   ]
  },
  {
   "cell_type": "markdown",
   "id": "fb69d21f",
   "metadata": {},
   "source": [
    "#### Grafico\n",
    "El filtro fue implementado en Spice con las estructuras Sallen-Key\n",
    "<img src=\"TP2_Ej2.PNG\">\n"
   ]
  },
  {
   "cell_type": "markdown",
   "id": "b726d176",
   "metadata": {},
   "source": [
    "### Ejercicio 5"
   ]
  },
  {
   "cell_type": "code",
   "execution_count": 2,
   "id": "fd9f4b35",
   "metadata": {},
   "outputs": [
    {
     "data": {
      "text/html": [
       "\n",
       "        <iframe\n",
       "            width=\"900\"\n",
       "            height=\"900\"\n",
       "            src=\"Ejercicio_5_TP2.pdf\"\n",
       "            frameborder=\"0\"\n",
       "            allowfullscreen\n",
       "            \n",
       "        ></iframe>\n",
       "        "
      ],
      "text/plain": [
       "<IPython.lib.display.IFrame at 0x2230525a220>"
      ]
     },
     "execution_count": 2,
     "metadata": {},
     "output_type": "execute_result"
    }
   ],
   "source": [
    "from IPython.display import IFrame\n",
    "IFrame(\"Ejercicio_5_TP2.pdf\", width=900, height=900)"
   ]
  },
  {
   "cell_type": "markdown",
   "id": "f2aa408b",
   "metadata": {},
   "source": [
    "#### Grafico\n",
    "El filtro fue implementado en Spice con las estructuras Pasivas, buffereados con operacionales. Esta planteado para impedancia y frecuencia normalizada.\n",
    "<img src=\"Ejercicio_5.png\">"
   ]
  },
  {
   "cell_type": "markdown",
   "id": "345b6043",
   "metadata": {},
   "source": [
    "### Ejercicio 6"
   ]
  },
  {
   "cell_type": "code",
   "execution_count": 4,
   "id": "0a506d7a",
   "metadata": {},
   "outputs": [
    {
     "data": {
      "text/html": [
       "\n",
       "        <iframe\n",
       "            width=\"900\"\n",
       "            height=\"900\"\n",
       "            src=\"Ejercicio_6_TP2.pdf\"\n",
       "            frameborder=\"0\"\n",
       "            allowfullscreen\n",
       "            \n",
       "        ></iframe>\n",
       "        "
      ],
      "text/plain": [
       "<IPython.lib.display.IFrame at 0x223051ccca0>"
      ]
     },
     "execution_count": 4,
     "metadata": {},
     "output_type": "execute_result"
    }
   ],
   "source": [
    "from IPython.display import IFrame\n",
    "IFrame(\"Ejercicio_6_TP2.pdf\", width=900, height=900)"
   ]
  },
  {
   "cell_type": "markdown",
   "id": "859bc63c",
   "metadata": {},
   "source": [
    "#### Grafico\n",
    "El filtro fue implementado en Spice con las estructuras MFB\n",
    "<img src=\"Ejercicio_6.png\">"
   ]
  },
  {
   "cell_type": "markdown",
   "id": "83dc5254",
   "metadata": {},
   "source": [
    "### Ejercicio 7"
   ]
  },
  {
   "cell_type": "code",
   "execution_count": 1,
   "id": "745debf5",
   "metadata": {},
   "outputs": [
    {
     "data": {
      "text/html": [
       "\n",
       "        <iframe\n",
       "            width=\"900\"\n",
       "            height=\"900\"\n",
       "            src=\"Ejercicio_7_TP2.pdf\"\n",
       "            frameborder=\"0\"\n",
       "            allowfullscreen\n",
       "            \n",
       "        ></iframe>\n",
       "        "
      ],
      "text/plain": [
       "<IPython.lib.display.IFrame at 0x18010c45d30>"
      ]
     },
     "execution_count": 1,
     "metadata": {},
     "output_type": "execute_result"
    }
   ],
   "source": [
    "from IPython.display import IFrame\n",
    "IFrame(\"Ejercicio_7_TP2.pdf\", width=900, height=900)"
   ]
  },
  {
   "cell_type": "markdown",
   "id": "9eba1e76",
   "metadata": {},
   "source": [
    "#### Graficos\n",
    "A continuacion se muetra el grafico de modulo y fase, junto con el diagrama de polos y ceros:\n",
    "<img src=\"modulo_fase.png\">\n",
    "<img src=\"polos_ceros.png\">\n",
    "\n",
    "El filtro fue implementado en Spice con las estructuras Ackerberg Mossberg\n",
    "<img src=\"circuito_7.png\">\n",
    "\n",
    "Obtenemos en la banda de paso una ganancia máxima de 10dB\n",
    "<img src=\"10db_grafico.png\">\n",
    "\n",
    "En las frecuencias de paso tenemos una atenuacion de aproximadamente -3dB respecto del máximo\n",
    "<img src=\"3db.png\">\n",
    "\n",
    "En las frecuencias de stop tenemos una atenuacion de aproximadamente -20dB respecto del máximo\n",
    "<img src=\"20db.png\">"
   ]
  },
  {
   "cell_type": "markdown",
   "id": "b916a6ac",
   "metadata": {},
   "source": [
    "### Ejercicio 8"
   ]
  },
  {
   "cell_type": "code",
   "execution_count": 7,
   "id": "5e2f3b78",
   "metadata": {},
   "outputs": [
    {
     "data": {
      "text/html": [
       "\n",
       "        <iframe\n",
       "            width=\"900\"\n",
       "            height=\"900\"\n",
       "            src=\"Ejercicio_8_TP2.pdf\"\n",
       "            frameborder=\"0\"\n",
       "            allowfullscreen\n",
       "            \n",
       "        ></iframe>\n",
       "        "
      ],
      "text/plain": [
       "<IPython.lib.display.IFrame at 0x223052537f0>"
      ]
     },
     "execution_count": 7,
     "metadata": {},
     "output_type": "execute_result"
    }
   ],
   "source": [
    "from IPython.display import IFrame\n",
    "IFrame(\"Ejercicio_8_TP2.pdf\", width=900, height=900)"
   ]
  },
  {
   "cell_type": "code",
   "execution_count": null,
   "id": "910c8252",
   "metadata": {},
   "outputs": [],
   "source": []
  }
 ],
 "metadata": {
  "kernelspec": {
   "display_name": "Python 3 (ipykernel)",
   "language": "python",
   "name": "python3"
  },
  "language_info": {
   "codemirror_mode": {
    "name": "ipython",
    "version": 3
   },
   "file_extension": ".py",
   "mimetype": "text/x-python",
   "name": "python",
   "nbconvert_exporter": "python",
   "pygments_lexer": "ipython3",
   "version": "3.9.7"
  }
 },
 "nbformat": 4,
 "nbformat_minor": 5
}
